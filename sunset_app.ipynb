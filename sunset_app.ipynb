{
 "cells": [
  {
   "cell_type": "code",
   "execution_count": 7,
   "metadata": {},
   "outputs": [],
   "source": [
    "import requests\n",
    "from datetime import datetime\n",
    "\n",
    "MY_LAT = 42.360081\n",
    "MY_LONG = -71.058884\n",
    "\n",
    "parameters = {\n",
    "    \"lat\": MY_LAT,\n",
    "    \"lng\": MY_LONG,\n",
    "}\n",
    "\n",
    "response = requests.get(\"https://api.sunrise-sunset.org/json\",\n",
    "                       params = parameters)\n",
    "response.raise_for_status()"
   ]
  },
  {
   "cell_type": "code",
   "execution_count": 8,
   "metadata": {},
   "outputs": [
    {
     "name": "stdout",
     "output_type": "stream",
     "text": [
      "{'results': {'sunrise': '9:18:23 AM', 'sunset': '12:21:23 AM', 'solar_noon': '4:49:53 PM', 'day_length': '15:03:00', 'civil_twilight_begin': '8:44:38 AM', 'civil_twilight_end': '12:55:08 AM', 'nautical_twilight_begin': '8:01:27 AM', 'nautical_twilight_end': '1:38:19 AM', 'astronomical_twilight_begin': '7:10:20 AM', 'astronomical_twilight_end': '2:29:26 AM'}, 'status': 'OK'}\n"
     ]
    }
   ],
   "source": [
    "data = response.json()\n",
    "print(data)"
   ]
  },
  {
   "cell_type": "code",
   "execution_count": 9,
   "metadata": {},
   "outputs": [
    {
     "name": "stdout",
     "output_type": "stream",
     "text": [
      "9:18:23 AM 12:21:23 AM\n"
     ]
    }
   ],
   "source": [
    "sunrise = data[\"results\"]['sunrise']\n",
    "sunset = data['results']['sunset']\n",
    "\n",
    "print(sunrise, sunset)"
   ]
  },
  {
   "cell_type": "code",
   "execution_count": 10,
   "metadata": {},
   "outputs": [
    {
     "name": "stdout",
     "output_type": "stream",
     "text": [
      "2021-07-11 18:35:01.469341\n"
     ]
    }
   ],
   "source": [
    "time_now = datetime.now()\n",
    "print(time_now)"
   ]
  },
  {
   "cell_type": "code",
   "execution_count": null,
   "metadata": {},
   "outputs": [],
   "source": [
    "print(sunrise.split)"
   ]
  }
 ],
 "metadata": {
  "kernelspec": {
   "display_name": "Python 3",
   "language": "python",
   "name": "python3"
  },
  "language_info": {
   "codemirror_mode": {
    "name": "ipython",
    "version": 3
   },
   "file_extension": ".py",
   "mimetype": "text/x-python",
   "name": "python",
   "nbconvert_exporter": "python",
   "pygments_lexer": "ipython3",
   "version": "3.7.4"
  },
  "toc": {
   "base_numbering": 1,
   "nav_menu": {},
   "number_sections": true,
   "sideBar": true,
   "skip_h1_title": false,
   "title_cell": "Table of Contents",
   "title_sidebar": "Contents",
   "toc_cell": false,
   "toc_position": {},
   "toc_section_display": true,
   "toc_window_display": false
  }
 },
 "nbformat": 4,
 "nbformat_minor": 2
}
