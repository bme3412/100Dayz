{
 "cells": [
  {
   "cell_type": "code",
   "execution_count": null,
   "metadata": {},
   "outputs": [],
   "source": [
    "from tkinter import *\n",
    "from PIL import Image, ImageTk\n",
    "\n",
    "# ----------- PASSWORD GENERATOR ---------------- #\n",
    "\n",
    "\n",
    "# -------------SAVE PASSWORD -------------------- #\n",
    "\n",
    "\n",
    "# ---------------- UI SETUP ----------------------- #\n",
    "\n",
    "\n",
    "window = Tk()\n",
    "window.title(\"Password Manager\")\n",
    "window.config(padx=20, pady=20)\n",
    "\n",
    "\n",
    " # prep the image\n",
    "img = Image.open(\"/Users/BrendanErhard/Desktop/Data Science/Udemy/100 days of python/Day 29/KG.png\")\n",
    "ph = ImageTk.PhotoImage(img)\n",
    "\n",
    "\n",
    "canvas = Canvas(height=200, width=200)\n",
    "canvas.create_image(50, 40, image=ph)\n",
    "canvas.pack()\n",
    "\n",
    "\n",
    "window.mainloop()\n"
   ]
  },
  {
   "cell_type": "code",
   "execution_count": null,
   "metadata": {},
   "outputs": [],
   "source": []
  }
 ],
 "metadata": {
  "kernelspec": {
   "display_name": "Python 3",
   "language": "python",
   "name": "python3"
  },
  "language_info": {
   "codemirror_mode": {
    "name": "ipython",
    "version": 3
   },
   "file_extension": ".py",
   "mimetype": "text/x-python",
   "name": "python",
   "nbconvert_exporter": "python",
   "pygments_lexer": "ipython3",
   "version": "3.7.4"
  },
  "toc": {
   "base_numbering": 1,
   "nav_menu": {},
   "number_sections": true,
   "sideBar": true,
   "skip_h1_title": false,
   "title_cell": "Table of Contents",
   "title_sidebar": "Contents",
   "toc_cell": false,
   "toc_position": {},
   "toc_section_display": true,
   "toc_window_display": false
  }
 },
 "nbformat": 4,
 "nbformat_minor": 2
}
